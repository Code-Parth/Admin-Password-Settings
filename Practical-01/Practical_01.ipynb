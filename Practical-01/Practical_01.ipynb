{
  "nbformat": 4,
  "nbformat_minor": 0,
  "metadata": {
    "colab": {
      "provenance": [],
      "authorship_tag": "ABX9TyNae7/tf3mZ5/fqh1kt5JIo",
      "include_colab_link": true
    },
    "kernelspec": {
      "name": "python3",
      "display_name": "Python 3"
    },
    "language_info": {
      "name": "python"
    }
  },
  "cells": [
    {
      "cell_type": "markdown",
      "metadata": {
        "id": "view-in-github",
        "colab_type": "text"
      },
      "source": [
        "<a href=\"https://colab.research.google.com/github/Code-Parth/Admin-Password-Settings/blob/master/Practical-01/Practical_01.ipynb\" target=\"_parent\"><img src=\"https://colab.research.google.com/assets/colab-badge.svg\" alt=\"Open In Colab\"/></a>"
      ]
    },
    {
      "cell_type": "markdown",
      "source": [
        "# **Practical 01**\n",
        "\n",
        "**Programs to understand the control structures of python.**\n",
        "1. Python program to print &quot;Hello Python&quot;\n",
        "2. Python program to find the area of a triangle\n",
        "3. Python Program to Check Leap Year\n",
        "4. Python Program to Find the Sum of Natural Numbers\n",
        "5. Python Program to Print all Prime Numbers between an Interval\n"
      ],
      "metadata": {
        "id": "47jRYBXOf1MW"
      }
    },
    {
      "cell_type": "markdown",
      "source": [
        "# **1. Python program to print \"Hello Python\"**"
      ],
      "metadata": {
        "id": "02dbQgKng_gx"
      }
    },
    {
      "cell_type": "code",
      "source": [
        "print (\"Hello Python\")"
      ],
      "metadata": {
        "colab": {
          "base_uri": "https://localhost:8080/"
        },
        "id": "IGfRERFdeoVf",
        "outputId": "9d4e882c-3605-473b-8663-01972a0f8aeb"
      },
      "execution_count": 3,
      "outputs": [
        {
          "output_type": "stream",
          "name": "stdout",
          "text": [
            "Hello Python\n"
          ]
        }
      ]
    },
    {
      "cell_type": "markdown",
      "source": [
        "# **2. Python program to find the area of a triangle**"
      ],
      "metadata": {
        "id": "CdHZGpAvhQVY"
      }
    },
    {
      "cell_type": "code",
      "source": [
        "# import math module\n",
        "import math\n",
        "\n",
        "# take inputs\n",
        "a = float(input('Enter first side: '))\n",
        "b = float(input('Enter second side: '))\n",
        "c = float(input('Enter third side: '))\n",
        "\n",
        "# calculate the semi-perimeter\n",
        "s = (a + b + c) / 2\n",
        "\n",
        "# calculate the area using heron's formula\n",
        "area = math.sqrt(s * (s - a) * (s - b) * (s - c))\n",
        "print('The area of the triangle is %0.2f' % area)\n"
      ],
      "metadata": {
        "colab": {
          "base_uri": "https://localhost:8080/"
        },
        "id": "Q8inJbz-haS5",
        "outputId": "5893cec9-68a8-4caf-c7a1-f6a03a7076f0"
      },
      "execution_count": 4,
      "outputs": [
        {
          "output_type": "stream",
          "name": "stdout",
          "text": [
            "Enter first side: 10\n",
            "Enter second side: 8\n",
            "Enter third side: 6\n",
            "The area of the triangle is 24.00\n"
          ]
        }
      ]
    },
    {
      "cell_type": "markdown",
      "source": [
        "# **3. Python Program to Check Leap Year**"
      ],
      "metadata": {
        "id": "R_UDSlyMivUl"
      }
    },
    {
      "cell_type": "code",
      "source": [
        "year = int(input(\"Enter a year: \"))\n",
        "if (year % 4) == 0:\n",
        "    print(f\"{year} is a leap year\")\n",
        "else:\n",
        "    print(f\"{year} is not a leap year\")\n"
      ],
      "metadata": {
        "colab": {
          "base_uri": "https://localhost:8080/"
        },
        "id": "YRhkTJAHi7bc",
        "outputId": "2e18d2b1-e7e6-4f57-913b-543d4711e708"
      },
      "execution_count": 10,
      "outputs": [
        {
          "output_type": "stream",
          "name": "stdout",
          "text": [
            "Enter a year: 2024\n",
            "2024 is a leap year\n"
          ]
        }
      ]
    },
    {
      "cell_type": "markdown",
      "source": [
        "# **4. Python Program to Find the Sum of Natural Numbers**"
      ],
      "metadata": {
        "id": "M0U42c5ykJWN"
      }
    },
    {
      "cell_type": "code",
      "source": [
        "# Take input from the user\n",
        "num = int(input(\"Enter a number: \"))\n",
        "sum = 0\n",
        "\n",
        "# use while loop to iterate un till zero\n",
        "while(num > 0):\n",
        "    sum += num\n",
        "    num -= 1\n",
        "\n",
        "print(\"The sum is\", sum)\n"
      ],
      "metadata": {
        "colab": {
          "base_uri": "https://localhost:8080/"
        },
        "id": "mIe61OMzkPHN",
        "outputId": "4de884f0-c76a-45a7-f1be-185ded6771e0"
      },
      "execution_count": 11,
      "outputs": [
        {
          "output_type": "stream",
          "name": "stdout",
          "text": [
            "Enter a number: 34\n",
            "The sum is 595\n"
          ]
        }
      ]
    },
    {
      "cell_type": "markdown",
      "source": [
        "# **5. Python Program to Print all Prime Numbers between an Interval**"
      ],
      "metadata": {
        "id": "_pN8sp44kgUC"
      }
    },
    {
      "cell_type": "code",
      "source": [
        "# define a function\n",
        "def prime_numbers(start, end):\n",
        "    for num in range(start, end + 1):\n",
        "        if num > 1:\n",
        "            for i in range(2, num):\n",
        "                if (num % i) == 0:\n",
        "                    break\n",
        "            else:\n",
        "                print(num)\n",
        "\n",
        "\n",
        "# take input from the user\n",
        "start = int(input(\"Enter the start of the interval: \"))\n",
        "end = int(input(\"Enter the end of the interval: \"))\n",
        "print(\"Prime numbers between\", start, \"and\", end, \"are:\")\n",
        "prime_numbers(start, end)\n"
      ],
      "metadata": {
        "colab": {
          "base_uri": "https://localhost:8080/"
        },
        "id": "Oi87z4KYko6A",
        "outputId": "57effb79-242f-42aa-9da2-0a8b1dfec4d9"
      },
      "execution_count": 15,
      "outputs": [
        {
          "output_type": "stream",
          "name": "stdout",
          "text": [
            "Enter the start of the interval: 0\n",
            "Enter the end of the interval: 100\n",
            "Prime numbers between 0 and 100 are:\n",
            "2\n",
            "3\n",
            "5\n",
            "7\n",
            "11\n",
            "13\n",
            "17\n",
            "19\n",
            "23\n",
            "29\n",
            "31\n",
            "37\n",
            "41\n",
            "43\n",
            "47\n",
            "53\n",
            "59\n",
            "61\n",
            "67\n",
            "71\n",
            "73\n",
            "79\n",
            "83\n",
            "89\n",
            "97\n"
          ]
        }
      ]
    }
  ]
}